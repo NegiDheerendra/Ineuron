{
 "cells": [
  {
   "cell_type": "markdown",
   "id": "f9ae88c4",
   "metadata": {},
   "source": [
    "1. In the below elements which of them are values or an expression? eg:- values can be\n",
    "integer or string and expressions will be mathematical operators.\n",
    "*       - expression\n",
    "'hello' - value\n",
    "-87.8   - value\n",
    "-        - expression\n",
    "/        - expression\n",
    "+        - expression\n",
    "6        - value"
   ]
  },
  {
   "cell_type": "markdown",
   "id": "dead06fd",
   "metadata": {},
   "source": [
    "2. What is the difference between string and variable?\n",
    "\n",
    "Varible is a value holder to which we assign any value.\n",
    "ex: a = 2, here 'a' is variable.\n",
    "    \n",
    "string is character/word/sentence. written in quotes \n",
    "ex: \"this is string\""
   ]
  },
  {
   "cell_type": "markdown",
   "id": "15e9a1d1",
   "metadata": {},
   "source": [
    "3. Describe three different data types.\n",
    "\n",
    "integer - holds whole number ex: 3, 4\n",
    "float  - holds fraction number ex: 3.2\n",
    "list - collection of different/same types of data values. ex: l=[1,2,\"test\", 3.4]\n"
   ]
  },
  {
   "cell_type": "markdown",
   "id": "b9fbb1c1",
   "metadata": {},
   "source": [
    "4. What is an expression made up of? What do all expressions do?\n",
    "expressions are made of variable, value and operators \n",
    "ex: \n",
    "    b=a+3\n",
    "\n",
    "expressions are used to evaluate value of variable using any operators."
   ]
  },
  {
   "cell_type": "markdown",
   "id": "0f7226a1",
   "metadata": {},
   "source": [
    "5. This assignment statements, like spam = 10. What is the difference between an\n",
    "expression and a statement?\n",
    "\n",
    "expression are made of variable, value and operators & it is used to evaluate.\n",
    "\n",
    "statements are commands ex: type(a)"
   ]
  },
  {
   "cell_type": "markdown",
   "id": "e5726052",
   "metadata": {},
   "source": [
    "6. After running the following code, what does the variable bacon contain?\n",
    "bacon = 22\n",
    "bacon + 1\n",
    "\n",
    "Ans =23"
   ]
  },
  {
   "cell_type": "code",
   "execution_count": 4,
   "id": "fc92f573",
   "metadata": {},
   "outputs": [
    {
     "data": {
      "text/plain": [
       "23"
      ]
     },
     "execution_count": 4,
     "metadata": {},
     "output_type": "execute_result"
    }
   ],
   "source": [
    "bacon = 22\n",
    "bacon + 1"
   ]
  },
  {
   "cell_type": "markdown",
   "id": "f38d9967",
   "metadata": {},
   "source": [
    "7. What should the values of the following two terms be?\n",
    "'spam' + 'spamspam' = 'spamspamspam'\n",
    "'spam' * 3 = 'spamspamspam'"
   ]
  },
  {
   "cell_type": "code",
   "execution_count": 5,
   "id": "b70e9baa",
   "metadata": {},
   "outputs": [
    {
     "data": {
      "text/plain": [
       "'spamspamspam'"
      ]
     },
     "execution_count": 5,
     "metadata": {},
     "output_type": "execute_result"
    }
   ],
   "source": [
    "'spam' + 'spamspam'"
   ]
  },
  {
   "cell_type": "code",
   "execution_count": 6,
   "id": "262b921d",
   "metadata": {},
   "outputs": [
    {
     "data": {
      "text/plain": [
       "'spamspamspam'"
      ]
     },
     "execution_count": 6,
     "metadata": {},
     "output_type": "execute_result"
    }
   ],
   "source": [
    "'spam' * 3"
   ]
  },
  {
   "cell_type": "markdown",
   "id": "1bbe8f53",
   "metadata": {},
   "source": [
    "8. Why is eggs a valid variable name while 100 is invalid?\n",
    "\n",
    "eggs is a valid variable bcz it starts with a character, a variable can't be started with number or special character.\n",
    "\n",
    "100 is a invalid bcz it's a number."
   ]
  },
  {
   "cell_type": "markdown",
   "id": "f1a75d5d",
   "metadata": {},
   "source": [
    "9. What three functions can be used to get the integer, floating-point number, or string\n",
    "version of a value?\n",
    "integer - int()\n",
    "Floating number - float()\n",
    "String - str()"
   ]
  },
  {
   "cell_type": "markdown",
   "id": "98c689f1",
   "metadata": {},
   "source": [
    "10. Why does this expression cause an error? How can you fix it?\n",
    "'I have eaten ' + 99 + ' burritos.'\n",
    "\n",
    "here we are adding number 99 to string, hence getting error.\n",
    "\n",
    "to fix the error we should typecast 99 to string  ex: str(99).\n",
    "\n",
    "'I have eaten ' + str(99) + ' burritos.'"
   ]
  }
 ],
 "metadata": {
  "kernelspec": {
   "display_name": "Python 3 (ipykernel)",
   "language": "python",
   "name": "python3"
  },
  "language_info": {
   "codemirror_mode": {
    "name": "ipython",
    "version": 3
   },
   "file_extension": ".py",
   "mimetype": "text/x-python",
   "name": "python",
   "nbconvert_exporter": "python",
   "pygments_lexer": "ipython3",
   "version": "3.9.7"
  }
 },
 "nbformat": 4,
 "nbformat_minor": 5
}
